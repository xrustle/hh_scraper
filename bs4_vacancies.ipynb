{
 "cells": [
  {
   "cell_type": "markdown",
   "metadata": {},
   "source": [
    "# Парсинг вакансий hh.ru"
   ]
  },
  {
   "cell_type": "code",
   "execution_count": 1,
   "metadata": {},
   "outputs": [],
   "source": [
    "import json\n",
    "import re\n",
    "\n",
    "import pandas as pd\n",
    "import requests\n",
    "from bs4 import BeautifulSoup as bs\n",
    "from tqdm.notebook import tqdm"
   ]
  },
  {
   "cell_type": "markdown",
   "metadata": {},
   "source": [
    "В переменной `REQUEST` храним поисковый запрос. Например `data scientist`."
   ]
  },
  {
   "cell_type": "code",
   "execution_count": 2,
   "metadata": {},
   "outputs": [],
   "source": [
    "REQUEST = 'data scientist'\n",
    "\n",
    "HEADERS = {'User-Agent': 'Mozilla/5.0 (Windows NT 10.0; Win64; x64)'\n",
    "                         'AppleWebKit/537.36 (KHTML, like Gecko)' \n",
    "                         'Chrome/79.0.3945.79 Safari/537.36'}\n",
    "\n",
    "URL = 'https://hh.ru/search/vacancy'\n",
    "\n",
    "PARAMS = {\n",
    "    \"area\": \"1\", \n",
    "    \"L_is_autosearch\": \"false\", \n",
    "    \"clusters\": \"true\", \n",
    "    \"enable_snippets\": \"true\", \n",
    "    \"text\": REQUEST\n",
    "}"
   ]
  },
  {
   "cell_type": "markdown",
   "metadata": {},
   "source": [
    "Функция `getNumberOfPages` возвращает номер последней страницы или другими словами их количество."
   ]
  },
  {
   "cell_type": "code",
   "execution_count": 3,
   "metadata": {},
   "outputs": [],
   "source": [
    "def getNumberOfPages():\n",
    "    request = requests.get(URL, params=PARAMS, headers=HEADERS)\n",
    "    parsed_html = bs(request.text, 'lxml')\n",
    "    page_numbers = parsed_html.findAll('a', {'data-qa': 'pager-page'})\n",
    "    last_page_number = int(str(page_numbers[-1].text)) if page_numbers else 0\n",
    "    \n",
    "    return last_page_number"
   ]
  },
  {
   "cell_type": "code",
   "execution_count": 4,
   "metadata": {},
   "outputs": [
    {
     "data": {
      "text/plain": [
       "8"
      ]
     },
     "execution_count": 4,
     "metadata": {},
     "output_type": "execute_result"
    }
   ],
   "source": [
    "getNumberOfPages()"
   ]
  },
  {
   "cell_type": "markdown",
   "metadata": {},
   "source": [
    "Функция парсинга одной отдельной страницы с вакансиями."
   ]
  },
  {
   "cell_type": "code",
   "execution_count": 5,
   "metadata": {},
   "outputs": [],
   "source": [
    "def parseHHPage(data, page_num=0):  \n",
    "    params = PARAMS\n",
    "    params.update(page=str(page_num))\n",
    "    request = requests.get(URL, params=params, headers=HEADERS)\n",
    "    \n",
    "    parsed_html = bs(request.text, 'lxml')\n",
    "    \n",
    "    vacancy_list = parsed_html.findAll('div', {'class': 'vacancy-serp-item'})\n",
    "    \n",
    "    for vacancy in vacancy_list:\n",
    "        d = {}\n",
    "        title = vacancy.find('a', {'data-qa': 'vacancy-serp__vacancy-title'})\n",
    "        d['Title'] = title.text\n",
    "        \n",
    "        salary = vacancy.find('span', {'data-qa': 'vacancy-serp__vacancy-compensation'})\n",
    "        d['Salary from'], d['Salary to'], d['Currency'] = parseSalary(salary)\n",
    "        \n",
    "        d['Link'] = re.sub(r'\\?.*$', '', title['href'])\n",
    "        \n",
    "        location = vacancy.find('div', {'data-qa': 'vacancy-serp__vacancy-address'})\n",
    "        d['Location'] = location.text if location else None\n",
    "        \n",
    "        company = vacancy.find('a', {'data-qa': 'vacancy-serp__vacancy-employer'})\n",
    "        d['Company'] = company.text if company else None\n",
    "        \n",
    "        data.append(d)\n",
    "        \n",
    "    return parsed_html"
   ]
  },
  {
   "cell_type": "markdown",
   "metadata": {},
   "source": [
    "Функция парсинга зарплаты. Зарплата хранится текстом, поэтому будем её парсить."
   ]
  },
  {
   "cell_type": "code",
   "execution_count": 6,
   "metadata": {},
   "outputs": [],
   "source": [
    "def parseSalary(salary):\n",
    "    sal_from = None\n",
    "    sal_to = None\n",
    "    currency = None \n",
    "    if salary:\n",
    "        salary = re.sub(r'[^\\w\\-–]', '', salary.text, re.UNICODE).replace('руб', 'RUR')\n",
    "        if not salary.find('от'):\n",
    "            re_search = re.search(r'(\\d+)(.+)', salary)\n",
    "            if re_search:\n",
    "                sal_from = int(re_search.group(1))\n",
    "                currency = re_search.group(2)\n",
    "        elif not salary.find('до'):\n",
    "            re_search = re.search(r'(\\d+)(.+)', salary)\n",
    "            if re_search:\n",
    "                sal_to = int(re_search.group(1))\n",
    "                currency = re_search.group(2)\n",
    "        else:\n",
    "            re_search = re.search(r'(\\d+)[^d](\\d+)(.+)', salary)\n",
    "            if re_search:\n",
    "                sal_from = int(re_search.group(1))\n",
    "                sal_to = int(re_search.group(2))\n",
    "                currency = re_search.group(3)\n",
    "    return sal_from,  sal_to, currency"
   ]
  },
  {
   "cell_type": "markdown",
   "metadata": {},
   "source": [
    "Запускаем парсинг по всем страницам результата поиска"
   ]
  },
  {
   "cell_type": "code",
   "execution_count": 7,
   "metadata": {},
   "outputs": [
    {
     "data": {
      "application/vnd.jupyter.widget-view+json": {
       "model_id": "ee5670f86c1b4635accdb6188c05b7f4",
       "version_major": 2,
       "version_minor": 0
      },
      "text/plain": [
       "  0%|          | 0/8 [00:00<?, ?it/s]"
      ]
     },
     "metadata": {},
     "output_type": "display_data"
    }
   ],
   "source": [
    "data = []\n",
    "last_page = getNumberOfPages()\n",
    "for i in tqdm(range(1, last_page + 1)):\n",
    "    parseHHPage(data, i)"
   ]
  },
  {
   "cell_type": "markdown",
   "metadata": {},
   "source": [
    "Смотрим результат. Чтобы не выводить все строки, оставим только те, в которых указана зарплата. Хотя бы одна из границ."
   ]
  },
  {
   "cell_type": "code",
   "execution_count": 8,
   "metadata": {},
   "outputs": [
    {
     "data": {
      "text/html": [
       "<div>\n",
       "<style scoped>\n",
       "    .dataframe tbody tr th:only-of-type {\n",
       "        vertical-align: middle;\n",
       "    }\n",
       "\n",
       "    .dataframe tbody tr th {\n",
       "        vertical-align: top;\n",
       "    }\n",
       "\n",
       "    .dataframe thead th {\n",
       "        text-align: right;\n",
       "    }\n",
       "</style>\n",
       "<table border=\"1\" class=\"dataframe\">\n",
       "  <thead>\n",
       "    <tr style=\"text-align: right;\">\n",
       "      <th></th>\n",
       "      <th>Title</th>\n",
       "      <th>Salary from</th>\n",
       "      <th>Salary to</th>\n",
       "      <th>Currency</th>\n",
       "      <th>Link</th>\n",
       "      <th>Location</th>\n",
       "      <th>Company</th>\n",
       "    </tr>\n",
       "  </thead>\n",
       "  <tbody>\n",
       "    <tr>\n",
       "      <th>7</th>\n",
       "      <td>Data Scientist</td>\n",
       "      <td>NaN</td>\n",
       "      <td>350000.0</td>\n",
       "      <td>RUR</td>\n",
       "      <td>https://hh.ru/vacancy/50108323</td>\n",
       "      <td>Москва, Киевская</td>\n",
       "      <td>3LOGIC GROUP</td>\n",
       "    </tr>\n",
       "    <tr>\n",
       "      <th>16</th>\n",
       "      <td>Data Engineer</td>\n",
       "      <td>50000.0</td>\n",
       "      <td>500000.0</td>\n",
       "      <td>RUR</td>\n",
       "      <td>https://hh.ru/vacancy/50651699</td>\n",
       "      <td>Москва</td>\n",
       "      <td>RockIT studio</td>\n",
       "    </tr>\n",
       "    <tr>\n",
       "      <th>21</th>\n",
       "      <td>Data Scientist</td>\n",
       "      <td>220000.0</td>\n",
       "      <td>NaN</td>\n",
       "      <td>RUR</td>\n",
       "      <td>https://hh.ru/vacancy/48484869</td>\n",
       "      <td>Москва</td>\n",
       "      <td>Borzo</td>\n",
       "    </tr>\n",
       "    <tr>\n",
       "      <th>25</th>\n",
       "      <td>Data scientist (computer vision)</td>\n",
       "      <td>200000.0</td>\n",
       "      <td>NaN</td>\n",
       "      <td>RUR</td>\n",
       "      <td>https://hh.ru/vacancy/50571106</td>\n",
       "      <td>Москва</td>\n",
       "      <td>АО Гознак</td>\n",
       "    </tr>\n",
       "    <tr>\n",
       "      <th>34</th>\n",
       "      <td>Middle Data Engineer</td>\n",
       "      <td>180000.0</td>\n",
       "      <td>250000.0</td>\n",
       "      <td>RUR</td>\n",
       "      <td>https://hh.ru/vacancy/50048134</td>\n",
       "      <td>Москва</td>\n",
       "      <td>Educate Online Inc</td>\n",
       "    </tr>\n",
       "    <tr>\n",
       "      <th>38</th>\n",
       "      <td>Data Scientist</td>\n",
       "      <td>200000.0</td>\n",
       "      <td>300000.0</td>\n",
       "      <td>RUR</td>\n",
       "      <td>https://hh.ru/vacancy/50579318</td>\n",
       "      <td>Москва</td>\n",
       "      <td>SegmentStream</td>\n",
       "    </tr>\n",
       "    <tr>\n",
       "      <th>52</th>\n",
       "      <td>Data Scientist</td>\n",
       "      <td>NaN</td>\n",
       "      <td>350000.0</td>\n",
       "      <td>RUR</td>\n",
       "      <td>https://hh.ru/vacancy/42011548</td>\n",
       "      <td>Москва</td>\n",
       "      <td>ООО РАБЛЗ</td>\n",
       "    </tr>\n",
       "    <tr>\n",
       "      <th>75</th>\n",
       "      <td>Data Scientist</td>\n",
       "      <td>2000.0</td>\n",
       "      <td>8000.0</td>\n",
       "      <td>USD</td>\n",
       "      <td>https://hh.ru/vacancy/50337537</td>\n",
       "      <td>Москва</td>\n",
       "      <td>Goltsblat Capital</td>\n",
       "    </tr>\n",
       "    <tr>\n",
       "      <th>78</th>\n",
       "      <td>Senior Data Scientist</td>\n",
       "      <td>NaN</td>\n",
       "      <td>350000.0</td>\n",
       "      <td>RUR</td>\n",
       "      <td>https://hh.ru/vacancy/49462557</td>\n",
       "      <td>Москва</td>\n",
       "      <td>Spice Agency</td>\n",
       "    </tr>\n",
       "    <tr>\n",
       "      <th>83</th>\n",
       "      <td>Data Analyst</td>\n",
       "      <td>100000.0</td>\n",
       "      <td>250000.0</td>\n",
       "      <td>RUR</td>\n",
       "      <td>https://hh.ru/vacancy/48648580</td>\n",
       "      <td>Москва</td>\n",
       "      <td>ООО РАБЛЗ</td>\n",
       "    </tr>\n",
       "    <tr>\n",
       "      <th>106</th>\n",
       "      <td>Специалист по машинному обучению (Juniour Data...</td>\n",
       "      <td>NaN</td>\n",
       "      <td>96000.0</td>\n",
       "      <td>RUR</td>\n",
       "      <td>https://hh.ru/vacancy/47227170</td>\n",
       "      <td>Москва, Кутузовская и еще 1</td>\n",
       "      <td>ООО Элемент Лизинг</td>\n",
       "    </tr>\n",
       "    <tr>\n",
       "      <th>114</th>\n",
       "      <td>Senior Back-end Engineer</td>\n",
       "      <td>350000.0</td>\n",
       "      <td>520000.0</td>\n",
       "      <td>RUR</td>\n",
       "      <td>https://hh.ru/vacancy/50483329</td>\n",
       "      <td>Москва</td>\n",
       "      <td>Corrily</td>\n",
       "    </tr>\n",
       "    <tr>\n",
       "      <th>116</th>\n",
       "      <td>Аналитик-разработчик</td>\n",
       "      <td>150000.0</td>\n",
       "      <td>300000.0</td>\n",
       "      <td>RUR</td>\n",
       "      <td>https://hh.ru/vacancy/48188363</td>\n",
       "      <td>Москва</td>\n",
       "      <td>ООО РАБЛЗ</td>\n",
       "    </tr>\n",
       "    <tr>\n",
       "      <th>118</th>\n",
       "      <td>Senior Project Manager</td>\n",
       "      <td>200000.0</td>\n",
       "      <td>300000.0</td>\n",
       "      <td>RUR</td>\n",
       "      <td>https://hh.ru/vacancy/48202715</td>\n",
       "      <td>Москва, Белорусская</td>\n",
       "      <td>FUNCORP</td>\n",
       "    </tr>\n",
       "  </tbody>\n",
       "</table>\n",
       "</div>"
      ],
      "text/plain": [
       "                                                 Title  Salary from  \\\n",
       "7                                       Data Scientist          NaN   \n",
       "16                                       Data Engineer      50000.0   \n",
       "21                                      Data Scientist     220000.0   \n",
       "25                    Data scientist (computer vision)     200000.0   \n",
       "34                                Middle Data Engineer     180000.0   \n",
       "38                                      Data Scientist     200000.0   \n",
       "52                                      Data Scientist          NaN   \n",
       "75                                      Data Scientist       2000.0   \n",
       "78                               Senior Data Scientist          NaN   \n",
       "83                                        Data Analyst     100000.0   \n",
       "106  Специалист по машинному обучению (Juniour Data...          NaN   \n",
       "114                           Senior Back-end Engineer     350000.0   \n",
       "116                               Аналитик-разработчик     150000.0   \n",
       "118                             Senior Project Manager     200000.0   \n",
       "\n",
       "     Salary to Currency                            Link  \\\n",
       "7     350000.0      RUR  https://hh.ru/vacancy/50108323   \n",
       "16    500000.0      RUR  https://hh.ru/vacancy/50651699   \n",
       "21         NaN      RUR  https://hh.ru/vacancy/48484869   \n",
       "25         NaN      RUR  https://hh.ru/vacancy/50571106   \n",
       "34    250000.0      RUR  https://hh.ru/vacancy/50048134   \n",
       "38    300000.0      RUR  https://hh.ru/vacancy/50579318   \n",
       "52    350000.0      RUR  https://hh.ru/vacancy/42011548   \n",
       "75      8000.0      USD  https://hh.ru/vacancy/50337537   \n",
       "78    350000.0      RUR  https://hh.ru/vacancy/49462557   \n",
       "83    250000.0      RUR  https://hh.ru/vacancy/48648580   \n",
       "106    96000.0      RUR  https://hh.ru/vacancy/47227170   \n",
       "114   520000.0      RUR  https://hh.ru/vacancy/50483329   \n",
       "116   300000.0      RUR  https://hh.ru/vacancy/48188363   \n",
       "118   300000.0      RUR  https://hh.ru/vacancy/48202715   \n",
       "\n",
       "                         Location             Company  \n",
       "7                Москва, Киевская        3LOGIC GROUP  \n",
       "16                         Москва       RockIT studio  \n",
       "21                         Москва               Borzo  \n",
       "25                         Москва           АО Гознак  \n",
       "34                         Москва  Educate Online Inc  \n",
       "38                         Москва       SegmentStream  \n",
       "52                         Москва           ООО РАБЛЗ  \n",
       "75                         Москва   Goltsblat Capital  \n",
       "78                         Москва        Spice Agency  \n",
       "83                         Москва           ООО РАБЛЗ  \n",
       "106  Москва, Кутузовская и еще 1   ООО Элемент Лизинг  \n",
       "114                        Москва             Corrily  \n",
       "116                        Москва           ООО РАБЛЗ  \n",
       "118           Москва, Белорусская             FUNCORP  "
      ]
     },
     "execution_count": 8,
     "metadata": {},
     "output_type": "execute_result"
    }
   ],
   "source": [
    "df = pd.DataFrame(data)\n",
    "df[df['Salary from'].notnull() | df['Salary to'].notnull()]"
   ]
  },
  {
   "cell_type": "markdown",
   "metadata": {},
   "source": [
    "Можно сохранить json-файл."
   ]
  },
  {
   "cell_type": "code",
   "execution_count": 9,
   "metadata": {},
   "outputs": [],
   "source": [
    "with open('vacancies.json', 'w', encoding='utf-8') as f:\n",
    "    json.dump(data, f, ensure_ascii=False)"
   ]
  }
 ],
 "metadata": {
  "kernelspec": {
   "display_name": "Python 3",
   "language": "python",
   "name": "python3"
  },
  "language_info": {
   "codemirror_mode": {
    "name": "ipython",
    "version": 3
   },
   "file_extension": ".py",
   "mimetype": "text/x-python",
   "name": "python",
   "nbconvert_exporter": "python",
   "pygments_lexer": "ipython3",
   "version": "3.8.8"
  }
 },
 "nbformat": 4,
 "nbformat_minor": 2
}
